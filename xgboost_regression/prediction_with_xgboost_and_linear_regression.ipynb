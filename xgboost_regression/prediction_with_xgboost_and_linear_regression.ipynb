{
 "cells": [
  {
   "cell_type": "code",
   "execution_count": 1,
   "metadata": {
    "_cell_guid": "e137a255-49bf-837d-8511-a49e6c84aef7",
    "_uuid": "bfe9d3ab290b3bf5838c62a401d447cd78d76f4d"
   },
   "outputs": [
    {
     "name": "stderr",
     "output_type": "stream",
     "text": [
      "/usr/local/lib/python3.5/dist-packages/sklearn/cross_validation.py:41: DeprecationWarning: This module was deprecated in version 0.18 in favor of the model_selection module into which all the refactored classes and functions are moved. Also note that the interface of the new CV iterators are different from that of this module. This module will be removed in 0.20.\n",
      "  \"This module will be removed in 0.20.\", DeprecationWarning)\n"
     ]
    }
   ],
   "source": [
    "import numpy as np\n",
    "import pandas as pd\n",
    "import matplotlib.pyplot as plt\n",
    "import xgboost\n",
    "import math\n",
    "from __future__ import division\n",
    "from scipy.stats import pearsonr\n",
    "from sklearn.linear_model import LinearRegression\n",
    "from sklearn import cross_validation, tree, linear_model\n",
    "from sklearn.model_selection import train_test_split\n",
    "from sklearn.metrics import explained_variance_score"
   ]
  },
  {
   "cell_type": "markdown",
   "metadata": {
    "_cell_guid": "fae38191-489d-ba9c-858c-f0b09d028f13",
    "_uuid": "88fbbd30550b0e97c81fb921683795c9849a3c74"
   },
   "source": [
    "# 1. Exploratory Data Analysis"
   ]
  },
  {
   "cell_type": "code",
   "execution_count": 3,
   "metadata": {
    "_cell_guid": "fe625774-6184-5cb2-819c-ff840e08e392",
    "_uuid": "9d0f8c35e0c32ea2408401f49c581cb56e41166c"
   },
   "outputs": [],
   "source": [
    "# Read the data into a data frame\n",
    "data = pd.read_csv('./input/kc_house_data.csv')"
   ]
  },
  {
   "cell_type": "code",
   "execution_count": 4,
   "metadata": {},
   "outputs": [
    {
     "data": {
      "text/html": [
       "<div>\n",
       "<style>\n",
       "    .dataframe thead tr:only-child th {\n",
       "        text-align: right;\n",
       "    }\n",
       "\n",
       "    .dataframe thead th {\n",
       "        text-align: left;\n",
       "    }\n",
       "\n",
       "    .dataframe tbody tr th {\n",
       "        vertical-align: top;\n",
       "    }\n",
       "</style>\n",
       "<table border=\"1\" class=\"dataframe\">\n",
       "  <thead>\n",
       "    <tr style=\"text-align: right;\">\n",
       "      <th></th>\n",
       "      <th>id</th>\n",
       "      <th>date</th>\n",
       "      <th>price</th>\n",
       "      <th>bedrooms</th>\n",
       "      <th>bathrooms</th>\n",
       "      <th>sqft_living</th>\n",
       "      <th>sqft_lot</th>\n",
       "      <th>floors</th>\n",
       "      <th>waterfront</th>\n",
       "      <th>view</th>\n",
       "      <th>...</th>\n",
       "      <th>grade</th>\n",
       "      <th>sqft_above</th>\n",
       "      <th>sqft_basement</th>\n",
       "      <th>yr_built</th>\n",
       "      <th>yr_renovated</th>\n",
       "      <th>zipcode</th>\n",
       "      <th>lat</th>\n",
       "      <th>long</th>\n",
       "      <th>sqft_living15</th>\n",
       "      <th>sqft_lot15</th>\n",
       "    </tr>\n",
       "  </thead>\n",
       "  <tbody>\n",
       "    <tr>\n",
       "      <th>0</th>\n",
       "      <td>7129300520</td>\n",
       "      <td>20141013T000000</td>\n",
       "      <td>221900.0</td>\n",
       "      <td>3</td>\n",
       "      <td>1.00</td>\n",
       "      <td>1180</td>\n",
       "      <td>5650</td>\n",
       "      <td>1.0</td>\n",
       "      <td>0</td>\n",
       "      <td>0</td>\n",
       "      <td>...</td>\n",
       "      <td>7</td>\n",
       "      <td>1180</td>\n",
       "      <td>0</td>\n",
       "      <td>1955</td>\n",
       "      <td>0</td>\n",
       "      <td>98178</td>\n",
       "      <td>47.5112</td>\n",
       "      <td>-122.257</td>\n",
       "      <td>1340</td>\n",
       "      <td>5650</td>\n",
       "    </tr>\n",
       "    <tr>\n",
       "      <th>1</th>\n",
       "      <td>6414100192</td>\n",
       "      <td>20141209T000000</td>\n",
       "      <td>538000.0</td>\n",
       "      <td>3</td>\n",
       "      <td>2.25</td>\n",
       "      <td>2570</td>\n",
       "      <td>7242</td>\n",
       "      <td>2.0</td>\n",
       "      <td>0</td>\n",
       "      <td>0</td>\n",
       "      <td>...</td>\n",
       "      <td>7</td>\n",
       "      <td>2170</td>\n",
       "      <td>400</td>\n",
       "      <td>1951</td>\n",
       "      <td>1991</td>\n",
       "      <td>98125</td>\n",
       "      <td>47.7210</td>\n",
       "      <td>-122.319</td>\n",
       "      <td>1690</td>\n",
       "      <td>7639</td>\n",
       "    </tr>\n",
       "    <tr>\n",
       "      <th>2</th>\n",
       "      <td>5631500400</td>\n",
       "      <td>20150225T000000</td>\n",
       "      <td>180000.0</td>\n",
       "      <td>2</td>\n",
       "      <td>1.00</td>\n",
       "      <td>770</td>\n",
       "      <td>10000</td>\n",
       "      <td>1.0</td>\n",
       "      <td>0</td>\n",
       "      <td>0</td>\n",
       "      <td>...</td>\n",
       "      <td>6</td>\n",
       "      <td>770</td>\n",
       "      <td>0</td>\n",
       "      <td>1933</td>\n",
       "      <td>0</td>\n",
       "      <td>98028</td>\n",
       "      <td>47.7379</td>\n",
       "      <td>-122.233</td>\n",
       "      <td>2720</td>\n",
       "      <td>8062</td>\n",
       "    </tr>\n",
       "    <tr>\n",
       "      <th>3</th>\n",
       "      <td>2487200875</td>\n",
       "      <td>20141209T000000</td>\n",
       "      <td>604000.0</td>\n",
       "      <td>4</td>\n",
       "      <td>3.00</td>\n",
       "      <td>1960</td>\n",
       "      <td>5000</td>\n",
       "      <td>1.0</td>\n",
       "      <td>0</td>\n",
       "      <td>0</td>\n",
       "      <td>...</td>\n",
       "      <td>7</td>\n",
       "      <td>1050</td>\n",
       "      <td>910</td>\n",
       "      <td>1965</td>\n",
       "      <td>0</td>\n",
       "      <td>98136</td>\n",
       "      <td>47.5208</td>\n",
       "      <td>-122.393</td>\n",
       "      <td>1360</td>\n",
       "      <td>5000</td>\n",
       "    </tr>\n",
       "    <tr>\n",
       "      <th>4</th>\n",
       "      <td>1954400510</td>\n",
       "      <td>20150218T000000</td>\n",
       "      <td>510000.0</td>\n",
       "      <td>3</td>\n",
       "      <td>2.00</td>\n",
       "      <td>1680</td>\n",
       "      <td>8080</td>\n",
       "      <td>1.0</td>\n",
       "      <td>0</td>\n",
       "      <td>0</td>\n",
       "      <td>...</td>\n",
       "      <td>8</td>\n",
       "      <td>1680</td>\n",
       "      <td>0</td>\n",
       "      <td>1987</td>\n",
       "      <td>0</td>\n",
       "      <td>98074</td>\n",
       "      <td>47.6168</td>\n",
       "      <td>-122.045</td>\n",
       "      <td>1800</td>\n",
       "      <td>7503</td>\n",
       "    </tr>\n",
       "  </tbody>\n",
       "</table>\n",
       "<p>5 rows × 21 columns</p>\n",
       "</div>"
      ],
      "text/plain": [
       "           id             date     price  bedrooms  bathrooms  sqft_living  \\\n",
       "0  7129300520  20141013T000000  221900.0         3       1.00         1180   \n",
       "1  6414100192  20141209T000000  538000.0         3       2.25         2570   \n",
       "2  5631500400  20150225T000000  180000.0         2       1.00          770   \n",
       "3  2487200875  20141209T000000  604000.0         4       3.00         1960   \n",
       "4  1954400510  20150218T000000  510000.0         3       2.00         1680   \n",
       "\n",
       "   sqft_lot  floors  waterfront  view     ...      grade  sqft_above  \\\n",
       "0      5650     1.0           0     0     ...          7        1180   \n",
       "1      7242     2.0           0     0     ...          7        2170   \n",
       "2     10000     1.0           0     0     ...          6         770   \n",
       "3      5000     1.0           0     0     ...          7        1050   \n",
       "4      8080     1.0           0     0     ...          8        1680   \n",
       "\n",
       "   sqft_basement  yr_built  yr_renovated  zipcode      lat     long  \\\n",
       "0              0      1955             0    98178  47.5112 -122.257   \n",
       "1            400      1951          1991    98125  47.7210 -122.319   \n",
       "2              0      1933             0    98028  47.7379 -122.233   \n",
       "3            910      1965             0    98136  47.5208 -122.393   \n",
       "4              0      1987             0    98074  47.6168 -122.045   \n",
       "\n",
       "   sqft_living15  sqft_lot15  \n",
       "0           1340        5650  \n",
       "1           1690        7639  \n",
       "2           2720        8062  \n",
       "3           1360        5000  \n",
       "4           1800        7503  \n",
       "\n",
       "[5 rows x 21 columns]"
      ]
     },
     "execution_count": 4,
     "metadata": {},
     "output_type": "execute_result"
    }
   ],
   "source": [
    "data.head()"
   ]
  },
  {
   "cell_type": "code",
   "execution_count": null,
   "metadata": {
    "_cell_guid": "f9afd217-a50b-9f37-755d-072af53522ca",
    "_uuid": "c7800c5e30d5faa9044c4226546f9f6be5ce3555",
    "collapsed": true
   },
   "outputs": [],
   "source": [
    "# Check the number of data points in the data set\n",
    "print(len(data))\n",
    "# Check the number of features in the data set\n",
    "print(len(data.columns))\n",
    "# Check the data types\n",
    "print(data.dtypes.unique())"
   ]
  },
  {
   "cell_type": "markdown",
   "metadata": {
    "_cell_guid": "c2021183-8a42-5787-bff7-da3181c08fb7",
    "_uuid": "d77866f779b0fadd6b6128bb8c089e1b68612d5a"
   },
   "source": [
    "- Since there are Python objects in the data set, we may have some categorical features. Let's check them. "
   ]
  },
  {
   "cell_type": "code",
   "execution_count": null,
   "metadata": {
    "_cell_guid": "608870cd-16d1-0f6f-9594-603c455da8a5",
    "_uuid": "45777640be40b6d7d3f66e68c12963b3a9467c12",
    "collapsed": true
   },
   "outputs": [],
   "source": [
    "data.select_dtypes(include=['O']).columns.tolist()"
   ]
  },
  {
   "cell_type": "markdown",
   "metadata": {
    "_cell_guid": "a8199e20-8553-da22-4b75-99f6fbc60523",
    "_uuid": "016d3f03b6dad4a8098187794af262b47f729e67"
   },
   "source": [
    "- We only have the date column which is a timestamp that we will ignore."
   ]
  },
  {
   "cell_type": "code",
   "execution_count": null,
   "metadata": {
    "_cell_guid": "c9d01805-192d-06f0-5e0a-aff8f7bb75bf",
    "_uuid": "9a15d874686d3aa1d97dd6210c190454aa8e9cd2",
    "collapsed": true
   },
   "outputs": [],
   "source": [
    "# Check any number of columns with NaN\n",
    "print(data.isnull().any().sum(), ' / ', len(data.columns))\n",
    "# Check any number of data points with NaN\n",
    "print(data.isnull().any(axis=1).sum(), ' / ', len(data))"
   ]
  },
  {
   "cell_type": "markdown",
   "metadata": {
    "_cell_guid": "619e716e-efcf-3c50-3b5c-5b8826967619",
    "_uuid": "fb8121c85a40c301a6fdf45e115530f6aabdb6f3"
   },
   "source": [
    "- The data set is pretty much structured and doesn't have any NaN values. So we can jump into finding correlations between the features and the target variable"
   ]
  },
  {
   "cell_type": "markdown",
   "metadata": {
    "_cell_guid": "c041ee9f-937b-5df2-100c-4ef6d4f39c3d",
    "_uuid": "34403d062a33be118eb9e67ef050d0971bb33452"
   },
   "source": [
    "# 2. Correlations between features and target"
   ]
  },
  {
   "cell_type": "code",
   "execution_count": null,
   "metadata": {
    "_cell_guid": "71b41bea-27dc-ff5f-d2ba-caa214ed661a",
    "_uuid": "943de845723d5e2704a64737baab7fc5d4774338",
    "collapsed": true
   },
   "outputs": [],
   "source": [
    "features = data.iloc[:,3:].columns.tolist()\n",
    "target = data.iloc[:,2].name"
   ]
  },
  {
   "cell_type": "code",
   "execution_count": null,
   "metadata": {
    "_cell_guid": "ccdb0159-6285-29e1-7ecc-fdd34442519c",
    "_uuid": "aa75f9580f82489ad1e6984e5a86876a7de0e62b",
    "collapsed": true
   },
   "outputs": [],
   "source": [
    "correlations = {}\n",
    "for f in features:\n",
    "    data_temp = data[[f,target]]\n",
    "    x1 = data_temp[f].values\n",
    "    x2 = data_temp[target].values\n",
    "    key = f + ' vs ' + target\n",
    "    correlations[key] = pearsonr(x1,x2)[0]"
   ]
  },
  {
   "cell_type": "code",
   "execution_count": null,
   "metadata": {
    "_cell_guid": "a5861b15-d8b3-76bf-9903-31995a68cd41",
    "_uuid": "dee43141605ea682d29eb83c647fc1d999f501a7",
    "collapsed": true
   },
   "outputs": [],
   "source": [
    "data_correlations = pd.DataFrame(correlations, index=['Value']).T\n",
    "data_correlations.loc[data_correlations['Value'].abs().sort_values(ascending=False).index]"
   ]
  },
  {
   "cell_type": "markdown",
   "metadata": {
    "_cell_guid": "df828a29-f738-a88c-996f-b14bfea07e3b",
    "_uuid": "df9ba0c2ea5aad78d58ee229f20bd654b38101a4"
   },
   "source": [
    "- We can see that the top 5 features are the most correlated features with the target \"price\"\n",
    "- Let's plot the best 2 regressors jointly"
   ]
  },
  {
   "cell_type": "code",
   "execution_count": null,
   "metadata": {
    "_cell_guid": "6c128db4-0179-cce8-44ec-d2ad8b300e1a",
    "_uuid": "be10936c30fe8843e7c32de495af172a454b94a7",
    "collapsed": true
   },
   "outputs": [],
   "source": [
    "y = data.loc[:,['sqft_living','grade',target]].sort_values(target, ascending=True).values\n",
    "x = np.arange(y.shape[0])"
   ]
  },
  {
   "cell_type": "code",
   "execution_count": null,
   "metadata": {
    "_cell_guid": "d01ee728-764b-f67d-3293-73fbc673c159",
    "_uuid": "2cca9a759356291c3b12b7e49583c34e205b502c",
    "collapsed": true
   },
   "outputs": [],
   "source": [
    "%matplotlib inline\n",
    "plt.subplot(3,1,1)\n",
    "plt.plot(x,y[:,0])\n",
    "plt.title('Sqft and Grade vs Price')\n",
    "plt.ylabel('Sqft')\n",
    "\n",
    "plt.subplot(3,1,2)\n",
    "plt.plot(x,y[:,1])\n",
    "plt.ylabel('Grade')\n",
    "\n",
    "plt.subplot(3,1,3)\n",
    "plt.plot(x,y[:,2],'r')\n",
    "plt.ylabel(\"Price\")\n",
    "\n",
    "plt.show()"
   ]
  },
  {
   "cell_type": "markdown",
   "metadata": {
    "_cell_guid": "bb08193b-d54e-a4b6-00f9-ccd1b618b7af",
    "_uuid": "2d6c790e6eab47f32510c11b4c36d5e2950357a6"
   },
   "source": [
    "# 3. Predicting House Sales Prices"
   ]
  },
  {
   "cell_type": "code",
   "execution_count": null,
   "metadata": {
    "_cell_guid": "6b5f6b66-bb8c-1142-84dc-a5b5542f6f6f",
    "_uuid": "1b7a211b3b476a1baa4d4ceb3e50c6469e7fa601",
    "collapsed": true
   },
   "outputs": [],
   "source": [
    "# Train a simple linear regression model\n",
    "regr = linear_model.LinearRegression()\n",
    "new_data = data[['sqft_living','grade', 'sqft_above', 'sqft_living15','bathrooms','view','sqft_basement','lat','waterfront','yr_built','bedrooms']]"
   ]
  },
  {
   "cell_type": "code",
   "execution_count": null,
   "metadata": {
    "_cell_guid": "b696daf9-ce83-a581-c98f-13631b496108",
    "_uuid": "07425a2e8fd1f378122f9e5a41e0181d7192e99e",
    "collapsed": true
   },
   "outputs": [],
   "source": [
    "X = new_data.values\n",
    "y = data.price.values"
   ]
  },
  {
   "cell_type": "code",
   "execution_count": null,
   "metadata": {
    "_cell_guid": "29fca21d-880e-6eb3-557d-b45035c32d26",
    "_uuid": "639d539859471a6e0e0b297e9bf012971f60da1a",
    "collapsed": true
   },
   "outputs": [],
   "source": [
    "X_train, X_test, y_train, y_test = cross_validation.train_test_split(X, y ,test_size=0.2)"
   ]
  },
  {
   "cell_type": "code",
   "execution_count": null,
   "metadata": {
    "_cell_guid": "51cc9733-ce21-0a71-2bb4-531fb4f79213",
    "_uuid": "8ee4bd4f197dd1c7137f0e637a1319bc35f215c4",
    "collapsed": true
   },
   "outputs": [],
   "source": [
    "regr.fit(X_train, y_train)\n",
    "print(regr.predict(X_test))"
   ]
  },
  {
   "cell_type": "code",
   "execution_count": null,
   "metadata": {
    "_cell_guid": "8281a2cd-9c2b-27aa-554d-9a65f057bcd5",
    "_uuid": "f56a8c22ac00907c32d3b636d3c589bb70003be4",
    "collapsed": true
   },
   "outputs": [],
   "source": [
    "regr.score(X_test,y_test)"
   ]
  },
  {
   "cell_type": "markdown",
   "metadata": {
    "_cell_guid": "8a1302a7-def8-1c23-fbcb-cda1bfd61dac",
    "_uuid": "91cfbf373151ad37bcf580d101361ad4e3cfba67"
   },
   "source": [
    "- Prediction score is about 70 which is not really optimal"
   ]
  },
  {
   "cell_type": "code",
   "execution_count": null,
   "metadata": {
    "_cell_guid": "e0e7cbaf-13a0-7d88-519d-a7857f2c4f36",
    "_uuid": "a7ffefb7545abf51cb8a28893c4fa8a3e2334305",
    "collapsed": true
   },
   "outputs": [],
   "source": [
    "# Calculate the Root Mean Squared Error\n",
    "print(\"RMSE: %.2f\"\n",
    "      % math.sqrt(np.mean((regr.predict(X_test) - y_test) ** 2)))"
   ]
  },
  {
   "cell_type": "code",
   "execution_count": null,
   "metadata": {
    "_cell_guid": "22c9f865-513a-3a37-9d62-bbd2c120d323",
    "_uuid": "49e4798722aa33d5fd3c155caf4707f684a508c4",
    "collapsed": true
   },
   "outputs": [],
   "source": [
    "# Let's try XGboost algorithm to see if we can get better results\n",
    "xgb = xgboost.XGBRegressor(n_estimators=100, learning_rate=0.08, gamma=0, subsample=0.75,\n",
    "                           colsample_bytree=1, max_depth=7)"
   ]
  },
  {
   "cell_type": "code",
   "execution_count": null,
   "metadata": {
    "_cell_guid": "2a5002e9-d390-333e-bb38-0effd4972e20",
    "_uuid": "3a602884ec58493df139f52612a2be6d87a76020",
    "collapsed": true
   },
   "outputs": [],
   "source": [
    "traindf, testdf = train_test_split(X_train, test_size = 0.3)\n",
    "xgb.fit(X_train,y_train)"
   ]
  },
  {
   "cell_type": "code",
   "execution_count": null,
   "metadata": {
    "_cell_guid": "96662a3d-4751-82dc-ba4a-05862a9f03e6",
    "_uuid": "b35f6f66d6845ed69cd90148248194b464aeaf25",
    "collapsed": true
   },
   "outputs": [],
   "source": [
    "predictions = xgb.predict(X_test)\n",
    "print(explained_variance_score(predictions,y_test))"
   ]
  },
  {
   "cell_type": "markdown",
   "metadata": {
    "_cell_guid": "8865579e-b2e5-edef-5354-1613a414f7ec",
    "_uuid": "ee816ffe066b8f243a9634c61bf76c78edfd5041"
   },
   "source": [
    "- Our accuracy is changing between 79%-84%. I think it is close to an optimal solution."
   ]
  },
  {
   "cell_type": "code",
   "execution_count": null,
   "metadata": {
    "_cell_guid": "54f7eb10-c65a-17b4-7a13-d65d78907ed4",
    "_uuid": "6372a9a250be62f2eb7d5881dea99f9fc944a47e",
    "collapsed": true
   },
   "outputs": [],
   "source": []
  }
 ],
 "metadata": {
  "_change_revision": 0,
  "_is_fork": false,
  "kernelspec": {
   "display_name": "Python 3",
   "language": "python",
   "name": "python3"
  },
  "language_info": {
   "codemirror_mode": {
    "name": "ipython",
    "version": 3
   },
   "file_extension": ".py",
   "mimetype": "text/x-python",
   "name": "python",
   "nbconvert_exporter": "python",
   "pygments_lexer": "ipython3",
   "version": "3.5.2"
  }
 },
 "nbformat": 4,
 "nbformat_minor": 1
}
