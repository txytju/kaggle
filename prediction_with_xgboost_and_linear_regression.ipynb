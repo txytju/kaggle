{
  "cells": [
    {
      "metadata": {
        "_uuid": "bfe9d3ab290b3bf5838c62a401d447cd78d76f4d",
        "_cell_guid": "e137a255-49bf-837d-8511-a49e6c84aef7",
        "trusted": false,
        "collapsed": true
      },
      "cell_type": "code",
      "source": "import numpy as np\nimport pandas as pd\nimport matplotlib.pyplot as plt\nimport xgboost\nimport math\nfrom __future__ import division\nfrom scipy.stats import pearsonr\nfrom sklearn.linear_model import LinearRegression\nfrom sklearn import cross_validation, tree, linear_model\nfrom sklearn.model_selection import train_test_split\nfrom sklearn.metrics import explained_variance_score",
      "execution_count": null,
      "outputs": []
    },
    {
      "metadata": {
        "_uuid": "88fbbd30550b0e97c81fb921683795c9849a3c74",
        "_cell_guid": "fae38191-489d-ba9c-858c-f0b09d028f13"
      },
      "cell_type": "markdown",
      "source": "# 1. Exploratory Data Analysis"
    },
    {
      "metadata": {
        "_uuid": "9d0f8c35e0c32ea2408401f49c581cb56e41166c",
        "_cell_guid": "fe625774-6184-5cb2-819c-ff840e08e392",
        "trusted": false,
        "collapsed": true
      },
      "cell_type": "code",
      "source": "# Read the data into a data frame\ndata = pd.read_csv('../input/kc_house_data.csv')",
      "execution_count": null,
      "outputs": []
    },
    {
      "metadata": {
        "_uuid": "c7800c5e30d5faa9044c4226546f9f6be5ce3555",
        "_cell_guid": "f9afd217-a50b-9f37-755d-072af53522ca",
        "trusted": false,
        "collapsed": true
      },
      "cell_type": "code",
      "source": "# Check the number of data points in the data set\nprint(len(data))\n# Check the number of features in the data set\nprint(len(data.columns))\n# Check the data types\nprint(data.dtypes.unique())",
      "execution_count": null,
      "outputs": []
    },
    {
      "metadata": {
        "_uuid": "d77866f779b0fadd6b6128bb8c089e1b68612d5a",
        "_cell_guid": "c2021183-8a42-5787-bff7-da3181c08fb7"
      },
      "cell_type": "markdown",
      "source": "- Since there are Python objects in the data set, we may have some categorical features. Let's check them. "
    },
    {
      "metadata": {
        "_uuid": "45777640be40b6d7d3f66e68c12963b3a9467c12",
        "_cell_guid": "608870cd-16d1-0f6f-9594-603c455da8a5",
        "trusted": false,
        "collapsed": true
      },
      "cell_type": "code",
      "source": "data.select_dtypes(include=['O']).columns.tolist()",
      "execution_count": null,
      "outputs": []
    },
    {
      "metadata": {
        "_uuid": "016d3f03b6dad4a8098187794af262b47f729e67",
        "_cell_guid": "a8199e20-8553-da22-4b75-99f6fbc60523"
      },
      "cell_type": "markdown",
      "source": "- We only have the date column which is a timestamp that we will ignore."
    },
    {
      "metadata": {
        "_uuid": "9a15d874686d3aa1d97dd6210c190454aa8e9cd2",
        "_cell_guid": "c9d01805-192d-06f0-5e0a-aff8f7bb75bf",
        "trusted": false,
        "collapsed": true
      },
      "cell_type": "code",
      "source": "# Check any number of columns with NaN\nprint(data.isnull().any().sum(), ' / ', len(data.columns))\n# Check any number of data points with NaN\nprint(data.isnull().any(axis=1).sum(), ' / ', len(data))",
      "execution_count": null,
      "outputs": []
    },
    {
      "metadata": {
        "_uuid": "fb8121c85a40c301a6fdf45e115530f6aabdb6f3",
        "_cell_guid": "619e716e-efcf-3c50-3b5c-5b8826967619"
      },
      "cell_type": "markdown",
      "source": "- The data set is pretty much structured and doesn't have any NaN values. So we can jump into finding correlations between the features and the target variable"
    },
    {
      "metadata": {
        "_uuid": "34403d062a33be118eb9e67ef050d0971bb33452",
        "_cell_guid": "c041ee9f-937b-5df2-100c-4ef6d4f39c3d"
      },
      "cell_type": "markdown",
      "source": "# 2. Correlations between features and target"
    },
    {
      "metadata": {
        "_uuid": "943de845723d5e2704a64737baab7fc5d4774338",
        "_cell_guid": "71b41bea-27dc-ff5f-d2ba-caa214ed661a",
        "trusted": false,
        "collapsed": true
      },
      "cell_type": "code",
      "source": "features = data.iloc[:,3:].columns.tolist()\ntarget = data.iloc[:,2].name",
      "execution_count": null,
      "outputs": []
    },
    {
      "metadata": {
        "_uuid": "aa75f9580f82489ad1e6984e5a86876a7de0e62b",
        "_cell_guid": "ccdb0159-6285-29e1-7ecc-fdd34442519c",
        "trusted": false,
        "collapsed": true
      },
      "cell_type": "code",
      "source": "correlations = {}\nfor f in features:\n    data_temp = data[[f,target]]\n    x1 = data_temp[f].values\n    x2 = data_temp[target].values\n    key = f + ' vs ' + target\n    correlations[key] = pearsonr(x1,x2)[0]",
      "execution_count": null,
      "outputs": []
    },
    {
      "metadata": {
        "_uuid": "dee43141605ea682d29eb83c647fc1d999f501a7",
        "_cell_guid": "a5861b15-d8b3-76bf-9903-31995a68cd41",
        "trusted": false,
        "collapsed": true
      },
      "cell_type": "code",
      "source": "data_correlations = pd.DataFrame(correlations, index=['Value']).T\ndata_correlations.loc[data_correlations['Value'].abs().sort_values(ascending=False).index]",
      "execution_count": null,
      "outputs": []
    },
    {
      "metadata": {
        "_uuid": "df9ba0c2ea5aad78d58ee229f20bd654b38101a4",
        "_cell_guid": "df828a29-f738-a88c-996f-b14bfea07e3b"
      },
      "cell_type": "markdown",
      "source": "- We can see that the top 5 features are the most correlated features with the target \"price\"\n- Let's plot the best 2 regressors jointly"
    },
    {
      "metadata": {
        "_uuid": "be10936c30fe8843e7c32de495af172a454b94a7",
        "_cell_guid": "6c128db4-0179-cce8-44ec-d2ad8b300e1a",
        "trusted": false,
        "collapsed": true
      },
      "cell_type": "code",
      "source": "y = data.loc[:,['sqft_living','grade',target]].sort_values(target, ascending=True).values\nx = np.arange(y.shape[0])",
      "execution_count": null,
      "outputs": []
    },
    {
      "metadata": {
        "_uuid": "2cca9a759356291c3b12b7e49583c34e205b502c",
        "_cell_guid": "d01ee728-764b-f67d-3293-73fbc673c159",
        "trusted": false,
        "collapsed": true
      },
      "cell_type": "code",
      "source": "%matplotlib inline\nplt.subplot(3,1,1)\nplt.plot(x,y[:,0])\nplt.title('Sqft and Grade vs Price')\nplt.ylabel('Sqft')\n\nplt.subplot(3,1,2)\nplt.plot(x,y[:,1])\nplt.ylabel('Grade')\n\nplt.subplot(3,1,3)\nplt.plot(x,y[:,2],'r')\nplt.ylabel(\"Price\")\n\nplt.show()",
      "execution_count": null,
      "outputs": []
    },
    {
      "metadata": {
        "_uuid": "2d6c790e6eab47f32510c11b4c36d5e2950357a6",
        "_cell_guid": "bb08193b-d54e-a4b6-00f9-ccd1b618b7af"
      },
      "cell_type": "markdown",
      "source": "# 3. Predicting House Sales Prices"
    },
    {
      "metadata": {
        "_uuid": "1b7a211b3b476a1baa4d4ceb3e50c6469e7fa601",
        "_cell_guid": "6b5f6b66-bb8c-1142-84dc-a5b5542f6f6f",
        "trusted": false,
        "collapsed": true
      },
      "cell_type": "code",
      "source": "# Train a simple linear regression model\nregr = linear_model.LinearRegression()\nnew_data = data[['sqft_living','grade', 'sqft_above', 'sqft_living15','bathrooms','view','sqft_basement','lat','waterfront','yr_built','bedrooms']]",
      "execution_count": null,
      "outputs": []
    },
    {
      "metadata": {
        "_uuid": "07425a2e8fd1f378122f9e5a41e0181d7192e99e",
        "_cell_guid": "b696daf9-ce83-a581-c98f-13631b496108",
        "trusted": false,
        "collapsed": true
      },
      "cell_type": "code",
      "source": "X = new_data.values\ny = data.price.values",
      "execution_count": null,
      "outputs": []
    },
    {
      "metadata": {
        "_uuid": "639d539859471a6e0e0b297e9bf012971f60da1a",
        "_cell_guid": "29fca21d-880e-6eb3-557d-b45035c32d26",
        "trusted": false,
        "collapsed": true
      },
      "cell_type": "code",
      "source": "X_train, X_test, y_train, y_test = cross_validation.train_test_split(X, y ,test_size=0.2)",
      "execution_count": null,
      "outputs": []
    },
    {
      "metadata": {
        "_uuid": "8ee4bd4f197dd1c7137f0e637a1319bc35f215c4",
        "_cell_guid": "51cc9733-ce21-0a71-2bb4-531fb4f79213",
        "trusted": false,
        "collapsed": true
      },
      "cell_type": "code",
      "source": "regr.fit(X_train, y_train)\nprint(regr.predict(X_test))",
      "execution_count": null,
      "outputs": []
    },
    {
      "metadata": {
        "_uuid": "f56a8c22ac00907c32d3b636d3c589bb70003be4",
        "_cell_guid": "8281a2cd-9c2b-27aa-554d-9a65f057bcd5",
        "trusted": false,
        "collapsed": true
      },
      "cell_type": "code",
      "source": "regr.score(X_test,y_test)",
      "execution_count": null,
      "outputs": []
    },
    {
      "metadata": {
        "_uuid": "91cfbf373151ad37bcf580d101361ad4e3cfba67",
        "_cell_guid": "8a1302a7-def8-1c23-fbcb-cda1bfd61dac"
      },
      "cell_type": "markdown",
      "source": "- Prediction score is about 70 which is not really optimal"
    },
    {
      "metadata": {
        "_uuid": "a7ffefb7545abf51cb8a28893c4fa8a3e2334305",
        "_cell_guid": "e0e7cbaf-13a0-7d88-519d-a7857f2c4f36",
        "trusted": false,
        "collapsed": true
      },
      "cell_type": "code",
      "source": "# Calculate the Root Mean Squared Error\nprint(\"RMSE: %.2f\"\n      % math.sqrt(np.mean((regr.predict(X_test) - y_test) ** 2)))",
      "execution_count": null,
      "outputs": []
    },
    {
      "metadata": {
        "_uuid": "49e4798722aa33d5fd3c155caf4707f684a508c4",
        "_cell_guid": "22c9f865-513a-3a37-9d62-bbd2c120d323",
        "trusted": false,
        "collapsed": true
      },
      "cell_type": "code",
      "source": "# Let's try XGboost algorithm to see if we can get better results\nxgb = xgboost.XGBRegressor(n_estimators=100, learning_rate=0.08, gamma=0, subsample=0.75,\n                           colsample_bytree=1, max_depth=7)",
      "execution_count": null,
      "outputs": []
    },
    {
      "metadata": {
        "_uuid": "3a602884ec58493df139f52612a2be6d87a76020",
        "_cell_guid": "2a5002e9-d390-333e-bb38-0effd4972e20",
        "trusted": false,
        "collapsed": true
      },
      "cell_type": "code",
      "source": "traindf, testdf = train_test_split(X_train, test_size = 0.3)\nxgb.fit(X_train,y_train)",
      "execution_count": null,
      "outputs": []
    },
    {
      "metadata": {
        "_uuid": "b35f6f66d6845ed69cd90148248194b464aeaf25",
        "_cell_guid": "96662a3d-4751-82dc-ba4a-05862a9f03e6",
        "trusted": false,
        "collapsed": true
      },
      "cell_type": "code",
      "source": "predictions = xgb.predict(X_test)\nprint(explained_variance_score(predictions,y_test))",
      "execution_count": null,
      "outputs": []
    },
    {
      "metadata": {
        "_uuid": "ee816ffe066b8f243a9634c61bf76c78edfd5041",
        "_cell_guid": "8865579e-b2e5-edef-5354-1613a414f7ec"
      },
      "cell_type": "markdown",
      "source": "- Our accuracy is changing between 79%-84%. I think it is close to an optimal solution."
    },
    {
      "metadata": {
        "_uuid": "6372a9a250be62f2eb7d5881dea99f9fc944a47e",
        "_cell_guid": "54f7eb10-c65a-17b4-7a13-d65d78907ed4",
        "trusted": false,
        "collapsed": true
      },
      "cell_type": "code",
      "source": "",
      "execution_count": null,
      "outputs": []
    }
  ],
  "metadata": {
    "_change_revision": 0,
    "language_info": {
      "name": "python",
      "version": "3.6.4",
      "mimetype": "text/x-python",
      "codemirror_mode": {
        "name": "ipython",
        "version": 3
      },
      "pygments_lexer": "ipython3",
      "nbconvert_exporter": "python",
      "file_extension": ".py"
    },
    "kernelspec": {
      "display_name": "Python 3",
      "language": "python",
      "name": "python3"
    },
    "_is_fork": false
  },
  "nbformat": 4,
  "nbformat_minor": 1
}