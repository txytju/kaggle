{
 "cells": [
  {
   "cell_type": "markdown",
   "metadata": {
    "_cell_guid": "ae353a12-9edf-1946-c11c-88d539b113d0",
    "_uuid": "1e686a9a68a66a85bc7f84894ff9770545dcfa3c"
   },
   "source": [
    "In this notebook, let us try and explore the data given for Zillow prize competition. Before we dive deep into the data, let us know a little more about the competition.\n",
    "\n",
    "**Zillow:**\n",
    "\n",
    "Zillow is an online real estate database company founded in 2006 - Wikipedia\n",
    "\n",
    "**Zestimate:**\n",
    "\n",
    "“Zestimates” are estimated home values based on 7.5 million statistical and machine learning models that analyze hundreds of data points on each property. And, by continually improving the median margin of error (from 14% at the onset to 5% today),\n",
    "\n",
    "**Objective:**\n",
    "\n",
    "Building a model to improve the Zestimate residual error.\n",
    "\n",
    "The competition is in two stages. This public competition will go on till Jan 2018 and has $50,000 in prize. Please make sure to read about the [Prize details][1] and [Competition overview][2] since it is quite different in this one.\n",
    "\n",
    "Let us first import the necessary modules.\n",
    "\n",
    "\n",
    "  [1]: https://www.kaggle.com/c/zillow-prize-1#prizes\n",
    "  [2]: https://www.kaggle.com/c/zillow-prize-1#Competition%20Overview"
   ]
  },
  {
   "cell_type": "code",
   "execution_count": 1,
   "metadata": {
    "_cell_guid": "7b0e7606-d591-ad0a-3340-7a98a6f0b519",
    "_uuid": "a943b85b5c3decf4193d4e10814a10104c6bd019",
    "collapsed": true
   },
   "outputs": [],
   "source": [
    "import numpy as np # linear algebra\n",
    "import pandas as pd # data processing, CSV file I/O (e.g. pd.read_csv)\n",
    "import matplotlib.pyplot as plt\n",
    "import seaborn as sns\n",
    "color = sns.color_palette()\n",
    "\n",
    "%matplotlib inline\n",
    "\n",
    "pd.options.mode.chained_assignment = None\n",
    "pd.options.display.max_columns = 999"
   ]
  },
  {
   "cell_type": "markdown",
   "metadata": {
    "_cell_guid": "12443c4c-af3e-d890-9cd0-83e3e08fd6d2",
    "_uuid": "24b18d253cac9993252cc8378ffd29a95ae44d72"
   },
   "source": [
    "Let us list the files present in the input folder."
   ]
  },
  {
   "cell_type": "code",
   "execution_count": 2,
   "metadata": {
    "_cell_guid": "e9a846eb-7c8e-7c62-7299-4febbb5ebedf",
    "_uuid": "ff55d6d57154ff74214ad2eb1577b6d1e846ac68"
   },
   "outputs": [
    {
     "name": "stdout",
     "output_type": "stream",
     "text": [
      "properties_2016.csv\n",
      "properties_2017.csv\n",
      "sample_submission.csv\n",
      "train_2016_v2.csv\n",
      "train_2017.csv\n",
      "zillow_data_dictionary.xlsx\n",
      "\n"
     ]
    }
   ],
   "source": [
    "from subprocess import check_output\n",
    "print(check_output([\"ls\", \"../input\"]).decode(\"utf8\"))"
   ]
  },
  {
   "cell_type": "markdown",
   "metadata": {
    "_cell_guid": "9ed1b204-7eb1-ee23-073a-8085a51d0804",
    "_uuid": "7ae268a3ce59e00e4ac55b59d91d224db50d5218"
   },
   "source": [
    "First let us start with the train file exploration."
   ]
  },
  {
   "cell_type": "code",
   "execution_count": 4,
   "metadata": {
    "_cell_guid": "6ed52ad2-5d37-1c05-edca-5d200f497e7b",
    "_uuid": "44bebaa334f6d00635df2f7e07e266ec39f5c3e6"
   },
   "outputs": [
    {
     "data": {
      "text/plain": [
       "(90275, 3)"
      ]
     },
     "execution_count": 4,
     "metadata": {},
     "output_type": "execute_result"
    }
   ],
   "source": [
    "train_df = pd.read_csv(\"../input/train_2016_v2.csv\", parse_dates=[\"transactiondate\"])\n",
    "train_df.shape"
   ]
  },
  {
   "cell_type": "code",
   "execution_count": 5,
   "metadata": {
    "_cell_guid": "553701b1-1508-fb32-7212-4d6c4f6ab796",
    "_uuid": "fc40834fbf1a10ba542b60088ad5ca70827124b8"
   },
   "outputs": [
    {
     "data": {
      "text/html": [
       "<div>\n",
       "<style>\n",
       "    .dataframe thead tr:only-child th {\n",
       "        text-align: right;\n",
       "    }\n",
       "\n",
       "    .dataframe thead th {\n",
       "        text-align: left;\n",
       "    }\n",
       "\n",
       "    .dataframe tbody tr th {\n",
       "        vertical-align: top;\n",
       "    }\n",
       "</style>\n",
       "<table border=\"1\" class=\"dataframe\">\n",
       "  <thead>\n",
       "    <tr style=\"text-align: right;\">\n",
       "      <th></th>\n",
       "      <th>parcelid</th>\n",
       "      <th>logerror</th>\n",
       "      <th>transactiondate</th>\n",
       "    </tr>\n",
       "  </thead>\n",
       "  <tbody>\n",
       "    <tr>\n",
       "      <th>0</th>\n",
       "      <td>11016594</td>\n",
       "      <td>0.0276</td>\n",
       "      <td>2016-01-01</td>\n",
       "    </tr>\n",
       "    <tr>\n",
       "      <th>1</th>\n",
       "      <td>14366692</td>\n",
       "      <td>-0.1684</td>\n",
       "      <td>2016-01-01</td>\n",
       "    </tr>\n",
       "    <tr>\n",
       "      <th>2</th>\n",
       "      <td>12098116</td>\n",
       "      <td>-0.0040</td>\n",
       "      <td>2016-01-01</td>\n",
       "    </tr>\n",
       "    <tr>\n",
       "      <th>3</th>\n",
       "      <td>12643413</td>\n",
       "      <td>0.0218</td>\n",
       "      <td>2016-01-02</td>\n",
       "    </tr>\n",
       "    <tr>\n",
       "      <th>4</th>\n",
       "      <td>14432541</td>\n",
       "      <td>-0.0050</td>\n",
       "      <td>2016-01-02</td>\n",
       "    </tr>\n",
       "  </tbody>\n",
       "</table>\n",
       "</div>"
      ],
      "text/plain": [
       "   parcelid  logerror transactiondate\n",
       "0  11016594    0.0276      2016-01-01\n",
       "1  14366692   -0.1684      2016-01-01\n",
       "2  12098116   -0.0040      2016-01-01\n",
       "3  12643413    0.0218      2016-01-02\n",
       "4  14432541   -0.0050      2016-01-02"
      ]
     },
     "execution_count": 5,
     "metadata": {},
     "output_type": "execute_result"
    }
   ],
   "source": [
    "train_df.head()"
   ]
  },
  {
   "cell_type": "markdown",
   "metadata": {
    "_cell_guid": "7a04bd96-470e-bfc3-8099-a0b6e774ea6a",
    "_uuid": "fbd7022432ea45b0c3462d721991d6b46c7402a3"
   },
   "source": [
    "**Logerror:**\n",
    "\n",
    "Target variable for this competition is \"logerror\" field. So let us do some analysis on this field first. "
   ]
  },
  {
   "cell_type": "code",
   "execution_count": 6,
   "metadata": {
    "_cell_guid": "ff5265e2-3630-a262-da96-4f289ffed677",
    "_uuid": "2397aa1481913388125fb316d60bc1ced2846c2a"
   },
   "outputs": [
    {
     "data": {
      "image/png": "[encoded data removed]",
      "text/plain": [
       "<matplotlib.figure.Figure at 0x7f747cdf46a0>"
      ]
     },
     "metadata": {},
     "output_type": "display_data"
    }
   ],
   "source": [
    "plt.figure(figsize=(8,6))\n",
    "plt.scatter(range(train_df.shape[0]), np.sort(train_df.logerror.values))\n",
    "plt.xlabel('index', fontsize=12)\n",
    "plt.ylabel('logerror', fontsize=12)\n",
    "plt.show()"
   ]
  },
  {
   "cell_type": "markdown",
   "metadata": {
    "_cell_guid": "1cce93eb-0687-fcc0-983e-60a2ea59b87e",
    "_uuid": "ca24ed86cebfdb6c8064171e4cb7770b512905d1"
   },
   "source": [
    "This looks nice with some outliers at both the ends.! \n",
    "\n",
    "Let us remove the outliers and then do a histogram plot on the same."
   ]
  },
  {
   "cell_type": "code",
   "execution_count": 9,
   "metadata": {
    "_cell_guid": "67ad699f-2314-883d-6cf3-b15f2ebdc7d7",
    "_uuid": "66af9cf46844297eda97dea674a2c74631ebba1d"
   },
   "outputs": [
    {
     "data": {
      "image/png": "[encoded data removed]",
      "text/plain": [
       "<matplotlib.figure.Figure at 0x7f747ac56eb8>"
      ]
     },
     "metadata": {},
     "output_type": "display_data"
    }
   ],
   "source": [
    "ulimit = np.percentile(train_df.logerror.values, 99)\n",
    "llimit = np.percentile(train_df.logerror.values, 1)\n",
    "train_df['logerror'].loc[train_df['logerror']>ulimit] = ulimit\n",
    "train_df['logerror'].loc[train_df['logerror']<llimit] = llimit\n",
    "\n",
    "plt.figure(figsize=(12,8))\n",
    "sns.distplot(train_df.logerror.values, bins=50, kde=False)\n",
    "plt.xlabel('logerror', fontsize=12)\n",
    "plt.show()"
   ]
  },
  {
   "cell_type": "markdown",
   "metadata": {
    "_cell_guid": "4ca4e0aa-8652-cb13-5ca8-88ef50794147",
    "_uuid": "35b4ddcbd06f33054a4647fbc1a3b17408a08317"
   },
   "source": [
    "Wow. nice normal distribution on the log error.\n",
    "\n",
    "**Transaction Date:**\n",
    "\n",
    "Now let us explore the date field. Let us first check the number of transactions in each month. "
   ]
  },
  {
   "cell_type": "code",
   "execution_count": 10,
   "metadata": {
    "_cell_guid": "2b641d53-1080-8141-47a9-065eb66ebd09",
    "_uuid": "639f288f768a62501d11a6b9f09d76d6d0a42b93"
   },
   "outputs": [
    {
     "data": {
      "image/png": "[encoded data removed]",
      "text/plain": [
       "<matplotlib.figure.Figure at 0x7f747ac765c0>"
      ]
     },
     "metadata": {},
     "output_type": "display_data"
    }
   ],
   "source": [
    "train_df['transaction_month'] = train_df['transactiondate'].dt.month\n",
    "\n",
    "cnt_srs = train_df['transaction_month'].value_counts()\n",
    "plt.figure(figsize=(12,6))\n",
    "sns.barplot(cnt_srs.index, cnt_srs.values, alpha=0.8, color=color[3])\n",
    "plt.xticks(rotation='vertical')\n",
    "plt.xlabel('Month of transaction', fontsize=12)\n",
    "plt.ylabel('Number of Occurrences', fontsize=12)\n",
    "plt.show()"
   ]
  },
  {
   "cell_type": "markdown",
   "metadata": {
    "_cell_guid": "7d525f89-1091-d0a7-1dc2-ade5c5027259",
    "_uuid": "04943c20f5b5c753a6451fd3ee383ab5af51185a"
   },
   "source": [
    "As we could see from the data page as well\n",
    "*The train data has all the transactions before October 15, 2016, plus some of the transactions after October 15, 2016.*\n",
    "\n",
    "So we have shorter bars in the last three months. \n",
    "\n",
    "**Parcel Id:**"
   ]
  },
  {
   "cell_type": "code",
   "execution_count": 11,
   "metadata": {
    "_cell_guid": "e3055a80-3151-0a0e-c388-9c77105cea8c",
    "_uuid": "a43e1bee096851f7ab13990cca9f5bc435c87144"
   },
   "outputs": [
    {
     "data": {
      "text/plain": [
       "1    90026\n",
       "2      123\n",
       "3        1\n",
       "Name: parcelid, dtype: int64"
      ]
     },
     "execution_count": 11,
     "metadata": {},
     "output_type": "execute_result"
    }
   ],
   "source": [
    "(train_df['parcelid'].value_counts().reset_index())['parcelid'].value_counts()"
   ]
  },
  {
   "cell_type": "markdown",
   "metadata": {
    "_cell_guid": "b250fd92-b9ac-da88-5faa-69c22ef142b4",
    "_uuid": "a011fa6ee07b1db39781ee399c55cc6e12613860"
   },
   "source": [
    "So most of the parcel ids are appearing only once in the dataset.\n",
    "\n",
    "**Properties 2016:**\n",
    "\n",
    "Now let us explore the properties_2016 file. "
   ]
  },
  {
   "cell_type": "code",
   "execution_count": null,
   "metadata": {
    "_cell_guid": "e356e5d9-dc5a-a1c7-15d4-47a4b3af1075",
    "_uuid": "46fb34373ff3033133cd0d7dbe65775f4d898907",
    "collapsed": true
   },
   "outputs": [],
   "source": [
    "prop_df = pd.read_csv(\"../input/properties_2016.csv\")\n",
    "prop_df.shape"
   ]
  },
  {
   "cell_type": "code",
   "execution_count": null,
   "metadata": {
    "_cell_guid": "0a777643-d6d0-e2cd-e2a0-654a97034001",
    "_uuid": "23779245e135c8fb1db729987744c1dcc271b8b9",
    "collapsed": true
   },
   "outputs": [],
   "source": [
    "prop_df.head()"
   ]
  },
  {
   "cell_type": "markdown",
   "metadata": {
    "_cell_guid": "5a4e7b91-5ee2-f972-af70-08e660e93162",
    "_uuid": "eb40eb5bfb9067c02c2241fb62e6512efd278cf1"
   },
   "source": [
    "There are so many NaN values in the dataset. So let us first do some exploration on that one. "
   ]
  },
  {
   "cell_type": "code",
   "execution_count": null,
   "metadata": {
    "_cell_guid": "3f13cac6-5d01-fc2d-73be-98472e5a988a",
    "_uuid": "0f68046d9b1d06d84bfabe963911501ba94b603a",
    "collapsed": true
   },
   "outputs": [],
   "source": [
    "missing_df = prop_df.isnull().sum(axis=0).reset_index()\n",
    "missing_df.columns = ['column_name', 'missing_count']\n",
    "missing_df = missing_df.ix[missing_df['missing_count']>0]\n",
    "missing_df = missing_df.sort_values(by='missing_count')\n",
    "\n",
    "ind = np.arange(missing_df.shape[0])\n",
    "width = 0.9\n",
    "fig, ax = plt.subplots(figsize=(12,18))\n",
    "rects = ax.barh(ind, missing_df.missing_count.values, color='blue')\n",
    "ax.set_yticks(ind)\n",
    "ax.set_yticklabels(missing_df.column_name.values, rotation='horizontal')\n",
    "ax.set_xlabel(\"Count of missing values\")\n",
    "ax.set_title(\"Number of missing values in each column\")\n",
    "plt.show()"
   ]
  },
  {
   "cell_type": "markdown",
   "metadata": {
    "_cell_guid": "c9eda5a2-1c29-f7c0-36bc-07aa6b8d4499",
    "_uuid": "ea91cbb9e7e0febad10b3161b60dab80cdd657a5"
   },
   "source": [
    "Let us explore the latitude and longitude variable to begin with."
   ]
  },
  {
   "cell_type": "code",
   "execution_count": null,
   "metadata": {
    "_cell_guid": "e33a5c3d-1c0e-ebf9-03fd-ff3a941954d7",
    "_uuid": "51617882234d8f918b49ea84251bca3065c970bf",
    "collapsed": true
   },
   "outputs": [],
   "source": [
    "plt.figure(figsize=(12,12))\n",
    "sns.jointplot(x=prop_df.latitude.values, y=prop_df.longitude.values, size=10)\n",
    "plt.ylabel('Longitude', fontsize=12)\n",
    "plt.xlabel('Latitude', fontsize=12)\n",
    "plt.show()"
   ]
  },
  {
   "cell_type": "markdown",
   "metadata": {
    "_cell_guid": "412ae7df-df18-4f37-a324-a30bc231cbd3",
    "_uuid": "c30df1dd15d9c99e59160c6d6889a70c65ba0a58"
   },
   "source": [
    "From the data page, *we are provided with a full list of real estate properties in three counties (Los Angeles, Orange and Ventura, California) data in 2016.*\n",
    "\n",
    "We have about 90,811 rows in train but we have about 2,985,217 rows in properties file. So let us merge the two files and then carry out our analysis. "
   ]
  },
  {
   "cell_type": "code",
   "execution_count": null,
   "metadata": {
    "_cell_guid": "aacb09c5-1009-a689-a49c-b89a7a7e3826",
    "_uuid": "635e79abbfde7e89825456f80a4d6ad5875fb5fe",
    "collapsed": true
   },
   "outputs": [],
   "source": [
    "train_df = pd.merge(train_df, prop_df, on='parcelid', how='left')\n",
    "train_df.head()"
   ]
  },
  {
   "cell_type": "markdown",
   "metadata": {
    "_cell_guid": "fcbb8b2a-9040-7fd8-d08d-f887821f85d5",
    "_uuid": "22de2de6a52973c0321313034c891d8a46dd3181"
   },
   "source": [
    "Now let us check the dtypes of different types of variable."
   ]
  },
  {
   "cell_type": "code",
   "execution_count": null,
   "metadata": {
    "_cell_guid": "b4131373-35f7-7819-1cf0-d8fdf55589c8",
    "_uuid": "421b6405447d28c7d0e8a931ed8d4b99ed5483ed",
    "collapsed": true
   },
   "outputs": [],
   "source": [
    "pd.options.display.max_rows = 65\n",
    "\n",
    "dtype_df = train_df.dtypes.reset_index()\n",
    "dtype_df.columns = [\"Count\", \"Column Type\"]\n",
    "dtype_df"
   ]
  },
  {
   "cell_type": "markdown",
   "metadata": {
    "_cell_guid": "ec4a5fd5-95e6-e564-3b8e-28065cb5e3b4",
    "_uuid": "f0d0ddd5746e9dec10be8d4d63cd6b52910b4de0"
   },
   "source": [
    "Almost all are float variables with few object (categorical) variables. Let us get the count. "
   ]
  },
  {
   "cell_type": "code",
   "execution_count": null,
   "metadata": {
    "_cell_guid": "2d546cc2-c74d-afdc-a678-29f59f78f6da",
    "_uuid": "cb4598cc44efca44fd6998a877472748dfb4ff34",
    "collapsed": true
   },
   "outputs": [],
   "source": [
    "dtype_df.groupby(\"Column Type\").aggregate('count').reset_index()"
   ]
  },
  {
   "cell_type": "markdown",
   "metadata": {
    "_cell_guid": "95ea35b7-f1cd-d8a5-d719-5dfd8d012e75",
    "_uuid": "625d19a44e0008ad5b49034df8709f7096b137cf"
   },
   "source": [
    "Now let us check the number of Nulls in this new merged dataset."
   ]
  },
  {
   "cell_type": "code",
   "execution_count": null,
   "metadata": {
    "_cell_guid": "e56a107d-91fd-aae0-9cc4-f88604ca81df",
    "_uuid": "1e539141b2b2a5290c6af3b23e25862684d843f4",
    "collapsed": true
   },
   "outputs": [],
   "source": [
    "missing_df = train_df.isnull().sum(axis=0).reset_index()\n",
    "missing_df.columns = ['column_name', 'missing_count']\n",
    "missing_df['missing_ratio'] = missing_df['missing_count'] / train_df.shape[0]\n",
    "missing_df.ix[missing_df['missing_ratio']>0.999]"
   ]
  },
  {
   "cell_type": "markdown",
   "metadata": {
    "_cell_guid": "c365beb4-7d74-b36f-187d-7c4c3c288dfa",
    "_uuid": "589835036ff3dce03a31ad2a50b27b87903b717c"
   },
   "source": [
    "Four columns have missing values 99.9% of the times.!"
   ]
  },
  {
   "cell_type": "markdown",
   "metadata": {
    "_cell_guid": "2abd4104-622c-9ada-b397-b756664f69d3",
    "_uuid": "24a53b7bbf0400a02e89ee62ad45a61734c2223c"
   },
   "source": [
    "**Univariate Analysis:**\n",
    "\n",
    "Since there are so many variables, let us first take the 'float' variables alone and then get the correlation with the target variable to see how they are related."
   ]
  },
  {
   "cell_type": "code",
   "execution_count": null,
   "metadata": {
    "_cell_guid": "a6592dca-8f7a-cd6b-23df-d87a98ebf934",
    "_uuid": "8e4411a00cdb84dd296297569682c9b36e7ab0b1",
    "collapsed": true
   },
   "outputs": [],
   "source": [
    "# Let us just impute the missing values with mean values to compute correlation coefficients #\n",
    "mean_values = train_df.mean(axis=0)\n",
    "train_df_new = train_df.fillna(mean_values, inplace=True)\n",
    "\n",
    "# Now let us look at the correlation coefficient of each of these variables #\n",
    "x_cols = [col for col in train_df_new.columns if col not in ['logerror'] if train_df_new[col].dtype=='float64']\n",
    "\n",
    "labels = []\n",
    "values = []\n",
    "for col in x_cols:\n",
    "    labels.append(col)\n",
    "    values.append(np.corrcoef(train_df_new[col].values, train_df_new.logerror.values)[0,1])\n",
    "corr_df = pd.DataFrame({'col_labels':labels, 'corr_values':values})\n",
    "corr_df = corr_df.sort_values(by='corr_values')\n",
    "    \n",
    "ind = np.arange(len(labels))\n",
    "width = 0.9\n",
    "fig, ax = plt.subplots(figsize=(12,40))\n",
    "rects = ax.barh(ind, np.array(corr_df.corr_values.values), color='y')\n",
    "ax.set_yticks(ind)\n",
    "ax.set_yticklabels(corr_df.col_labels.values, rotation='horizontal')\n",
    "ax.set_xlabel(\"Correlation coefficient\")\n",
    "ax.set_title(\"Correlation coefficient of the variables\")\n",
    "#autolabel(rects)\n",
    "plt.show()"
   ]
  },
  {
   "cell_type": "markdown",
   "metadata": {
    "_cell_guid": "92410577-02ba-d92d-b6b3-3673819ede1f",
    "_uuid": "6bb2493ca52bb389233701c4e895a27e62057319"
   },
   "source": [
    "The correlation of the target variable with the given set of variables are low overall. \n",
    "\n",
    "There are few variables at the top of this graph without any correlation values. I guess they have only one unique value and hence no correlation value. Let us confirm the same."
   ]
  },
  {
   "cell_type": "code",
   "execution_count": null,
   "metadata": {
    "_cell_guid": "2331b242-994c-8865-4fc8-13a62f518788",
    "_uuid": "50565dbab60f0c77a0ea413b974ac0d2c4ef2d80",
    "collapsed": true
   },
   "outputs": [],
   "source": [
    "corr_zero_cols = ['assessmentyear', 'storytypeid', 'pooltypeid2', 'pooltypeid7', 'pooltypeid10', 'poolcnt', 'decktypeid', 'buildingclasstypeid']\n",
    "for col in corr_zero_cols:\n",
    "    print(col, len(train_df_new[col].unique()))"
   ]
  },
  {
   "cell_type": "markdown",
   "metadata": {
    "_cell_guid": "927f3dfd-3461-a058-e70d-b23719b45b57",
    "_uuid": "5804fbce69c4c96fdcfa71f1c65465794b8ff87a"
   },
   "source": [
    "Let us take the variables with high correlation values and then do some analysis on them. "
   ]
  },
  {
   "cell_type": "code",
   "execution_count": null,
   "metadata": {
    "_cell_guid": "7971e8c3-69c3-7797-9ab4-04d60f2cc889",
    "_uuid": "0b068b830c8376d8dcc156e0db94e4273a7f68e6",
    "collapsed": true
   },
   "outputs": [],
   "source": [
    "corr_df_sel = corr_df.ix[(corr_df['corr_values']>0.02) | (corr_df['corr_values'] < -0.01)]\n",
    "corr_df_sel"
   ]
  },
  {
   "cell_type": "code",
   "execution_count": null,
   "metadata": {
    "_cell_guid": "78e253cf-ed6a-4e64-834d-f8c2c2ac1788",
    "_uuid": "469712f0bbc139d86b92934ca161630fb21d0849",
    "collapsed": true
   },
   "outputs": [],
   "source": [
    "cols_to_use = corr_df_sel.col_labels.tolist()\n",
    "\n",
    "temp_df = train_df[cols_to_use]\n",
    "corrmat = temp_df.corr(method='spearman')\n",
    "f, ax = plt.subplots(figsize=(8, 8))\n",
    "\n",
    "# Draw the heatmap using seaborn\n",
    "sns.heatmap(corrmat, vmax=1., square=True)\n",
    "plt.title(\"Important variables correlation map\", fontsize=15)\n",
    "plt.show()"
   ]
  },
  {
   "cell_type": "markdown",
   "metadata": {
    "_cell_guid": "87caaa5f-ed65-6ec1-75e8-af450304f966",
    "_uuid": "69f853716b6d3feb4d0cf43fb7ecbd4969508c04"
   },
   "source": [
    "The important variables themselves are very highly correlated.! Let us now look at each of them.\n",
    "\n",
    "**Finished SquareFeet 12:**\n",
    "\n",
    "Let us seee how the finished square feet 12 varies with the log error."
   ]
  },
  {
   "cell_type": "code",
   "execution_count": null,
   "metadata": {
    "_cell_guid": "9a051a83-6f9b-e8ba-35b7-a84911d73b6b",
    "_uuid": "307b1ddb48dfe91238094b21787f2a66cb022a6f",
    "collapsed": true
   },
   "outputs": [],
   "source": [
    "col = \"finishedsquarefeet12\"\n",
    "ulimit = np.percentile(train_df[col].values, 99.5)\n",
    "llimit = np.percentile(train_df[col].values, 0.5)\n",
    "train_df[col].ix[train_df[col]>ulimit] = ulimit\n",
    "train_df[col].ix[train_df[col]<llimit] = llimit\n",
    "\n",
    "plt.figure(figsize=(12,12))\n",
    "sns.jointplot(x=train_df.finishedsquarefeet12.values, y=train_df.logerror.values, size=10, color=color[4])\n",
    "plt.ylabel('Log Error', fontsize=12)\n",
    "plt.xlabel('Finished Square Feet 12', fontsize=12)\n",
    "plt.title(\"Finished square feet 12 Vs Log error\", fontsize=15)\n",
    "plt.show()"
   ]
  },
  {
   "cell_type": "markdown",
   "metadata": {
    "_cell_guid": "a47ef671-9fc4-91eb-266c-e5c41a1af987",
    "_uuid": "3cab319c3d9de7873b0ba6222e8299dfa45fa73b"
   },
   "source": [
    "Seems the range of logerror narrows down with increase in finished square feet 12 variable. Probably larger houses are easy to predict?\n",
    "\n",
    "**Calculated finished square feet:**"
   ]
  },
  {
   "cell_type": "code",
   "execution_count": null,
   "metadata": {
    "_cell_guid": "4f782bf2-5753-9017-eab8-e0c8cc0e1236",
    "_uuid": "ca216217fa78fe5fa064a2adfaecca2edef0d071",
    "collapsed": true
   },
   "outputs": [],
   "source": [
    "col = \"calculatedfinishedsquarefeet\"\n",
    "ulimit = np.percentile(train_df[col].values, 99.5)\n",
    "llimit = np.percentile(train_df[col].values, 0.5)\n",
    "train_df[col].ix[train_df[col]>ulimit] = ulimit\n",
    "train_df[col].ix[train_df[col]<llimit] = llimit\n",
    "\n",
    "plt.figure(figsize=(12,12))\n",
    "sns.jointplot(x=train_df.calculatedfinishedsquarefeet.values, y=train_df.logerror.values, size=10, color=color[5])\n",
    "plt.ylabel('Log Error', fontsize=12)\n",
    "plt.xlabel('Calculated finished square feet', fontsize=12)\n",
    "plt.title(\"Calculated finished square feet Vs Log error\", fontsize=15)\n",
    "plt.show()"
   ]
  },
  {
   "cell_type": "markdown",
   "metadata": {
    "_cell_guid": "936de827-6302-efb1-993e-be2c113e28bd",
    "_uuid": "ef3e3f26d0f0e4badca0f20d48465628a81a76b0"
   },
   "source": [
    "Here as well the distribution is very similar to the previous one. No wonder the correlation between the two variables are also high.\n",
    "\n",
    "**Bathroom Count:**"
   ]
  },
  {
   "cell_type": "code",
   "execution_count": null,
   "metadata": {
    "_cell_guid": "6fd53daa-e61a-5270-d41d-d8fa7e7e603a",
    "_uuid": "fb6a9d8e056a24122e91dcaa59237a836e320a17",
    "collapsed": true
   },
   "outputs": [],
   "source": [
    "plt.figure(figsize=(12,8))\n",
    "sns.countplot(x=\"bathroomcnt\", data=train_df)\n",
    "plt.ylabel('Count', fontsize=12)\n",
    "plt.xlabel('Bathroom', fontsize=12)\n",
    "plt.xticks(rotation='vertical')\n",
    "plt.title(\"Frequency of Bathroom count\", fontsize=15)\n",
    "plt.show()"
   ]
  },
  {
   "cell_type": "markdown",
   "metadata": {
    "_cell_guid": "90e9db54-5167-5f2f-60da-139802ade846",
    "_uuid": "5538a5185fcd29c187543d4f42db68b5f94a7144"
   },
   "source": [
    "There is an interesting 2.279 value in the bathroom count.\n",
    "\n",
    "Edit: As MihwaHan pointed in the comments, this is the mean value :)\n",
    "\n",
    "Now let us check how the log error changes based on this."
   ]
  },
  {
   "cell_type": "code",
   "execution_count": null,
   "metadata": {
    "_cell_guid": "5709506f-3dad-fe82-2207-f83fa84662e8",
    "_uuid": "3400a783436c0c470817178533afa00344183aab",
    "collapsed": true
   },
   "outputs": [],
   "source": [
    "plt.figure(figsize=(12,8))\n",
    "sns.boxplot(x=\"bathroomcnt\", y=\"logerror\", data=train_df)\n",
    "plt.ylabel('Log error', fontsize=12)\n",
    "plt.xlabel('Bathroom Count', fontsize=12)\n",
    "plt.xticks(rotation='vertical')\n",
    "plt.title(\"How log error changes with bathroom count?\", fontsize=15)\n",
    "plt.show()"
   ]
  },
  {
   "cell_type": "markdown",
   "metadata": {
    "_cell_guid": "f3348b3a-0276-6a79-afb2-5183ae4b8f66",
    "_uuid": "990429807bc55d5bb6d080d1d6315132d9ff8c9f"
   },
   "source": [
    "**Bedroom count:**"
   ]
  },
  {
   "cell_type": "code",
   "execution_count": null,
   "metadata": {
    "_cell_guid": "89d6cc37-8a90-34fe-d427-feaeb3c3a6c2",
    "_uuid": "5e51eda1989d40cb22d7754696ba5c676a728a84",
    "collapsed": true
   },
   "outputs": [],
   "source": [
    "plt.figure(figsize=(12,8))\n",
    "sns.countplot(x=\"bedroomcnt\", data=train_df)\n",
    "plt.ylabel('Frequency', fontsize=12)\n",
    "plt.xlabel('Bedroom Count', fontsize=12)\n",
    "plt.xticks(rotation='vertical')\n",
    "plt.title(\"Frequency of Bedroom count\", fontsize=15)\n",
    "plt.show()"
   ]
  },
  {
   "cell_type": "markdown",
   "metadata": {
    "_cell_guid": "7e63558e-1036-764d-8c11-47c4f5e8bfc0",
    "_uuid": "7119e13b7ad7f963ea605ae0416d665078c3e62b"
   },
   "source": [
    "3.03 is the mean value with which we replaced the Null values."
   ]
  },
  {
   "cell_type": "code",
   "execution_count": null,
   "metadata": {
    "_cell_guid": "957f4ad5-4043-fcfe-3c30-d3dbac494095",
    "_uuid": "a91606fa7f8da8cd69a343d1572600965acbfd18",
    "collapsed": true
   },
   "outputs": [],
   "source": [
    "train_df['bedroomcnt'].ix[train_df['bedroomcnt']>7] = 7\n",
    "plt.figure(figsize=(12,8))\n",
    "sns.violinplot(x='bedroomcnt', y='logerror', data=train_df)\n",
    "plt.xlabel('Bedroom count', fontsize=12)\n",
    "plt.ylabel('Log Error', fontsize=12)\n",
    "plt.show()"
   ]
  },
  {
   "cell_type": "code",
   "execution_count": null,
   "metadata": {
    "_cell_guid": "acac05b8-70d8-9e65-1b83-9adb2406d4a3",
    "_uuid": "868bf914eb53240b10b12bff9e51a7d47a2e34f8",
    "collapsed": true
   },
   "outputs": [],
   "source": [
    "col = \"taxamount\"\n",
    "ulimit = np.percentile(train_df[col].values, 99.5)\n",
    "llimit = np.percentile(train_df[col].values, 0.5)\n",
    "train_df[col].ix[train_df[col]>ulimit] = ulimit\n",
    "train_df[col].ix[train_df[col]<llimit] = llimit\n",
    "\n",
    "plt.figure(figsize=(12,12))\n",
    "sns.jointplot(x=train_df['taxamount'].values, y=train_df['logerror'].values, size=10, color='g')\n",
    "plt.ylabel('Log Error', fontsize=12)\n",
    "plt.xlabel('Tax Amount', fontsize=12)\n",
    "plt.title(\"Tax Amount Vs Log error\", fontsize=15)\n",
    "plt.show()"
   ]
  },
  {
   "cell_type": "markdown",
   "metadata": {
    "_cell_guid": "e0a42282-764a-1776-6dde-6bf238e6d87d",
    "_uuid": "c9b8112db86193fa40be0bba501fbc7345c97899"
   },
   "source": [
    "**YearBuilt:**\n",
    "\n",
    "Let us explore how the error varies with the yearbuilt variable."
   ]
  },
  {
   "cell_type": "code",
   "execution_count": null,
   "metadata": {
    "_cell_guid": "dcd10464-6b91-f0f2-5c4d-ad654fd60b32",
    "_uuid": "fc487a9aa48e759ceca5fee54acc8ab068c05f01",
    "collapsed": true
   },
   "outputs": [],
   "source": [
    "from ggplot import *\n",
    "ggplot(aes(x='yearbuilt', y='logerror'), data=train_df) + \\\n",
    "    geom_point(color='steelblue', size=1) + \\\n",
    "    stat_smooth()"
   ]
  },
  {
   "cell_type": "markdown",
   "metadata": {
    "_cell_guid": "7461d6f6-4dca-25d8-ee58-51a9068926d8",
    "_uuid": "78b9a760317a597ebd4a0844c5bbf67379cf51fe"
   },
   "source": [
    "There is a minor incremental trend seen with respect to built year.\n",
    "\n",
    "Now let us see how the logerror varies with respect to latitude and longitude."
   ]
  },
  {
   "cell_type": "code",
   "execution_count": null,
   "metadata": {
    "_cell_guid": "fe919c48-a6e3-e6b2-601f-09ad3e568269",
    "_uuid": "08ced37f1bca1d7189a4aa40cdbc9af7c36091b1",
    "collapsed": true
   },
   "outputs": [],
   "source": [
    "ggplot(aes(x='latitude', y='longitude', color='logerror'), data=train_df) + \\\n",
    "    geom_point() + \\\n",
    "    scale_color_gradient(low = 'red', high = 'blue')"
   ]
  },
  {
   "cell_type": "markdown",
   "metadata": {
    "_cell_guid": "be81b990-494e-5e75-df67-18548f650b29",
    "_uuid": "456eaa90cb0a7699ae6a2616525b15fd9c8af0ab"
   },
   "source": [
    "There are no visible pockets as such with respect to latitude or longitude atleast with the naked eye.\n",
    "\n",
    "Let us take the variables with highest positive correlation and highest negative correlation to see if we can see some visible patterns."
   ]
  },
  {
   "cell_type": "code",
   "execution_count": null,
   "metadata": {
    "_cell_guid": "ed814938-7acf-ec9c-5070-22ddad06dbfc",
    "_uuid": "94045caf86d713a974e953037207ff25ac57330b",
    "collapsed": true
   },
   "outputs": [],
   "source": [
    "ggplot(aes(x='finishedsquarefeet12', y='taxamount', color='logerror'), data=train_df) + \\\n",
    "    geom_point(alpha=0.7) + \\\n",
    "    scale_color_gradient(low = 'pink', high = 'blue')"
   ]
  },
  {
   "cell_type": "markdown",
   "metadata": {
    "_cell_guid": "aecf530d-c28b-ea61-c11a-63005f3e1e22",
    "_uuid": "a0f3c825b33024cdc9511d76166c0f477ade5333"
   },
   "source": [
    "There are no visible patterns here as well. So this is going to be a hard competition to predict I guess.\n",
    "\n",
    "Just for fun, we will let the machine form some arbitrary pattern for us :D"
   ]
  },
  {
   "cell_type": "code",
   "execution_count": null,
   "metadata": {
    "_cell_guid": "27b18ae9-f711-7b8b-c42f-9133f56340fa",
    "_uuid": "def6ecbc554b4e60a7bbb3917ece8615293ee571",
    "collapsed": true
   },
   "outputs": [],
   "source": [
    "ggplot(aes(x='finishedsquarefeet12', y='taxamount', color='logerror'), data=train_df) + \\\n",
    "    geom_now_its_art()"
   ]
  },
  {
   "cell_type": "markdown",
   "metadata": {
    "_cell_guid": "8b608db2-b0fe-0e7b-ffee-6f5b9509afbb",
    "_uuid": "61de724225624df5f11f1843ac130e7529e920f9"
   },
   "source": [
    "Hurray.! Finally we got some nice pattern in the data :P\n",
    "\n",
    "We had an understanding of important variables from the univariate analysis. But this is on a stand alone basis and also we have linearity assumption. Now let us build a non-linear model to get the important variables by building Extra Trees model."
   ]
  },
  {
   "cell_type": "code",
   "execution_count": null,
   "metadata": {
    "_cell_guid": "91013c8a-9980-62c0-bc4e-e9a2d3e251d7",
    "_uuid": "d9b874ea0371d25e81f12209023d9464a901ec2b",
    "collapsed": true
   },
   "outputs": [],
   "source": [
    "train_y = train_df['logerror'].values\n",
    "cat_cols = [\"hashottuborspa\", \"propertycountylandusecode\", \"propertyzoningdesc\", \"fireplaceflag\", \"taxdelinquencyflag\"]\n",
    "train_df = train_df.drop(['parcelid', 'logerror', 'transactiondate', 'transaction_month']+cat_cols, axis=1)\n",
    "feat_names = train_df.columns.values\n",
    "\n",
    "from sklearn import ensemble\n",
    "model = ensemble.ExtraTreesRegressor(n_estimators=25, max_depth=30, max_features=0.3, n_jobs=-1, random_state=0)\n",
    "model.fit(train_df, train_y)\n",
    "\n",
    "## plot the importances ##\n",
    "importances = model.feature_importances_\n",
    "std = np.std([tree.feature_importances_ for tree in model.estimators_], axis=0)\n",
    "indices = np.argsort(importances)[::-1][:20]\n",
    "\n",
    "plt.figure(figsize=(12,12))\n",
    "plt.title(\"Feature importances\")\n",
    "plt.bar(range(len(indices)), importances[indices], color=\"r\", yerr=std[indices], align=\"center\")\n",
    "plt.xticks(range(len(indices)), feat_names[indices], rotation='vertical')\n",
    "plt.xlim([-1, len(indices)])\n",
    "plt.show()"
   ]
  },
  {
   "cell_type": "markdown",
   "metadata": {
    "_cell_guid": "3bc28a7d-cb65-58e1-c7fc-0df34998d7a2",
    "_uuid": "cff5c24ebc3127b20cda75a0f6d87fffe044660f"
   },
   "source": [
    "Seems \"tax amount\" is the most importanct variable followed by \"structure tax value dollar count\" and \"land tax value dollor count\"\n",
    "\n"
   ]
  },
  {
   "cell_type": "code",
   "execution_count": null,
   "metadata": {
    "_cell_guid": "e59aeef7-7ec8-0b26-0897-40371a4cda24",
    "_uuid": "bbf472f514d99f214ce93f8418acca90cd6acb8b",
    "collapsed": true
   },
   "outputs": [],
   "source": [
    "import xgboost as xgb\n",
    "xgb_params = {\n",
    "    'eta': 0.05,\n",
    "    'max_depth': 8,\n",
    "    'subsample': 0.7,\n",
    "    'colsample_bytree': 0.7,\n",
    "    'objective': 'reg:linear',\n",
    "    'silent': 1,\n",
    "    'seed' : 0\n",
    "}\n",
    "dtrain = xgb.DMatrix(train_df, train_y, feature_names=train_df.columns.values)\n",
    "model = xgb.train(dict(xgb_params, silent=0), dtrain, num_boost_round=50)\n",
    "\n",
    "# plot the important features #\n",
    "fig, ax = plt.subplots(figsize=(12,18))\n",
    "xgb.plot_importance(model, max_num_features=50, height=0.8, ax=ax)\n",
    "plt.show()"
   ]
  },
  {
   "cell_type": "markdown",
   "metadata": {
    "_cell_guid": "cf80ce26-eef4-6b17-c152-973510ab547d",
    "_uuid": "4ee7a08ca2cfc6a5751ba25a167571e80a06aa41"
   },
   "source": [
    "Using xgboost, the important variables are 'structured tax value dollar count' followed by 'latitude' and 'calculated finished square feet' "
   ]
  },
  {
   "cell_type": "markdown",
   "metadata": {
    "_cell_guid": "5026922d-4f83-c0fd-bb20-26d5a8e9224a",
    "_uuid": "5a13b5b12aa914ef9add0009753367283f70d118"
   },
   "source": [
    "**More to come. Stay tuned.!**\n",
    "\n",
    "**Please upvote if you find it useful :)**"
   ]
  }
 ],
 "metadata": {
  "_change_revision": 0,
  "_is_fork": false,
  "kernelspec": {
   "display_name": "Python 3",
   "language": "python",
   "name": "python3"
  },
  "language_info": {
   "codemirror_mode": {
    "name": "ipython",
    "version": 3
   },
   "file_extension": ".py",
   "mimetype": "text/x-python",
   "name": "python",
   "nbconvert_exporter": "python",
   "pygments_lexer": "ipython3",
   "version": "3.5.2"
  }
 },
 "nbformat": 4,
 "nbformat_minor": 1
}
